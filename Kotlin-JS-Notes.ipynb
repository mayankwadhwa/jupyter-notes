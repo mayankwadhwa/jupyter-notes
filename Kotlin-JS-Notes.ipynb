{
 "cells": [
  {
   "cell_type": "markdown",
   "metadata": {},
   "source": [
    "## Setting Up A JS Project\n",
    "* Kotlin/JS uses gradle build system\n",
    "* Kotlin/JS gradle plugin provides project configuration tools along with helper tasks for automating routine typical for javascript development\n",
    "\n"
   ]
  },
  {
   "cell_type": "markdown",
   "metadata": {},
   "source": [
    "### Creating Kotlin/JS Project Using Gradle Script\n",
    "\n",
    "* Add kotlin(\"js\") Plugin to the build script \n",
    "\n",
    "``` kotlin\n",
    "plugins{\n",
    "     kotlin(\"js\") version \"1.3.70\"\n",
    "}\n",
    "\n",
    "kotlin{\n",
    "    // This section is used to configure project\n",
    "}\n",
    "```\n",
    "\n",
    "* kotlin section can be used to manage following section of the project\n",
    "    - Target Execution Environment: Browser or Node.js\n",
    "    - Project Dependencies: Maven or NPM\n",
    "    - Run Configuration\n",
    "    - Test Configuration\n",
    "    - Bundling for browser projects\n",
    "    - Target Directory\n",
    "    \n",
    "### Choosing Execution Environment\n",
    "* Kotlin/JS can choose 2 execution environment \n",
    "    - Browser for client-side scripting in browser\n",
    "    - Node.js for running javascript code outside of the browser\n",
    "    - To define the target we use\n",
    "    ``` kotlin\n",
    "        kotlin{\n",
    "            target{\n",
    "                browser{\n",
    "                }\n",
    "            }\n",
    "        }\n",
    "    ```\n",
    "\n",
    "### Managing Dependencies\n",
    "* kotlin/js support traditional gradle dependency declarations in the dependencies section of the build script\n",
    "``` kotlin\n",
    "    dependencies{\n",
    "            implementation(\"org.example.myproject\", \"1.1.0\")\n",
    "    }\n",
    "```\n",
    "\n",
    "### NPM Dependencies\n",
    "* The kotlin/js lets us declare npm dependencies along with other dependencies and does everything else automatically. It install the yarn package manager and uses it to download the dependencies from the NPM repository to the ```node_modules``` directory of your project\n",
    "* To declare a NPM dependency, pass its name and version to the npm() function inside the dependency declaration\n",
    "\n",
    "``` kotlin \n",
    "    dependencies{\n",
    "        implementation(npm(\"react\",\"16.12.0\"))\n",
    "    }\n",
    "```"
   ]
  },
  {
   "cell_type": "markdown",
   "metadata": {},
   "source": [
    "## Dynamic Type\n",
    "\n",
    "Being a statically typed language, kotlin still has to be interoperate with untyped and loosely typed typed environment of javascript. To facilitate these use case, the dynamic type is available in the language.\n",
    "\n",
    "`val dyn: dynamic = `\n",
    "\n",
    "the `dynamic` type basically turns off kotlin type checker \n",
    "* A value of this type can be assigned to any variable or passed anywhere as the parameter.\n",
    "* Any value can be assigned to a variable of type dynamic or passed to a function that takes dynamic as a parameter\n",
    "\n",
    "**Note - On javascript platform the dynamic type are compiled as is**\n",
    "\n",
    "A dynamic call always returns dynamic as a result, so we can chain such calls freely:"
   ]
  },
  {
   "cell_type": "markdown",
   "metadata": {},
   "source": [
    "## Calling Javascript From Kotlin\n",
    "We can freely talk to javascript using dynamic type, but if we want full power of kotlin type system, we need to create Kotlin headers for javascript library\n",
    "\n",
    "### Inline Javascript\n",
    "\n",
    "We can inline some of the javascript code using the `js(\"\")` function \n",
    "``` kotlin\n",
    "fun jsTypeOf(o: Any): String {\n",
    "    return js(\"typeof o\")\n",
    "}\n",
    "```\n",
    "\n",
    "### External Modifier\n",
    "\n",
    "To tell kotlin that a certain declaration is written in pure JavaScript, we should mark it `external` modifier. When the compiler sees such a declaration. it assumes that the implementation of the corresponding class, function or property is provided by the developer, and therefore doesn't try to generate any JavaScript code from the declaration. This means that we should omit bodies of external declaration. "
   ]
  },
  {
   "cell_type": "code",
   "execution_count": null,
   "metadata": {},
   "outputs": [],
   "source": []
  }
 ],
 "metadata": {
  "kernelspec": {
   "display_name": "Kotlin",
   "language": "kotlin",
   "name": "kotlin"
  },
  "language_info": {
   "codemirror_mode": "text/x-kotlin",
   "file_extension": "kt",
   "name": "kotlin"
  }
 },
 "nbformat": 4,
 "nbformat_minor": 4
}
