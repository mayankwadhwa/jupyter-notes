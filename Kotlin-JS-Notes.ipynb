{
 "cells": [
  {
   "cell_type": "markdown",
   "metadata": {},
   "source": [
    "## Setting Up A JS Project\n",
    "* Kotlin/JS uses gradle build system\n",
    "* Kotlin/JS gradle plugin provides project configuration tools along with helper tasks for automating routine typical for javascript development\n",
    "\n"
   ]
  },
  {
   "cell_type": "markdown",
   "metadata": {},
   "source": [
    "### Creating Kotlin/JS Project Using Gradle Script\n",
    "\n",
    "* Add kotlin(\"js\") Plugin to the build script \n",
    "\n",
    "``` kotlin\n",
    "plugins{\n",
    "     kotlin(\"js\") version \"1.3.70\"\n",
    "}\n",
    "\n",
    "kotlin{\n",
    "    // This section is used to configure project\n",
    "}\n",
    "```\n",
    "\n",
    "* kotlin section can be used to manage following section of the project\n",
    "    - Target Execution Environment: Browser or Node.js\n",
    "    - Project Dependencies: Maven or NPM\n",
    "    - Run Configuration\n",
    "    - Test Configuration\n",
    "    - Bundling for browser projects\n",
    "    - Target Directory\n"
   ]
  },
  {
   "cell_type": "code",
   "execution_count": null,
   "metadata": {},
   "outputs": [],
   "source": []
  }
 ],
 "metadata": {
  "kernelspec": {
   "display_name": "Kotlin",
   "language": "kotlin",
   "name": "kotlin"
  },
  "language_info": {
   "codemirror_mode": "text/x-kotlin",
   "file_extension": "kt",
   "name": "kotlin"
  }
 },
 "nbformat": 4,
 "nbformat_minor": 4
}
