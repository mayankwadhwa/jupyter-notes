{
 "cells": [
  {
   "cell_type": "markdown",
   "metadata": {},
   "source": [
    "# Fundamentals of Testing\n",
    "\n",
    "As our apps becomes larger and filled more and more use cases, We should test the variety of use cases and interaction as we iteratively develop our app."
   ]
  },
  {
   "cell_type": "markdown",
   "metadata": {},
   "source": [
    "### Create And Test Code Iteratively\n",
    "\n",
    "When developing a feature iteratively, either start by writing a new test or by adding cases and assertions to an existing unit test. The test fails at first because the feature isn't implemented yet.\n",
    "\n",
    "\n",
    "<img src=\"https://developer.android.com/images/training/testing/testing-workflow.png\" height=\"400\" width=\"400\"/>"
   ]
  },
  {
   "cell_type": "markdown",
   "metadata": {},
   "source": [
    "### View Your App As The Series Of Modules\n",
    "\n",
    "To make your code easier to test, develop your code in terms of modules, where each module represent a represents a specific tasks that users complete within your app.\n",
    "\n",
    "For example, a \"task list\" app might have modules for creating tasks, viewing statistics about completed tasks, and taking photographs to associate with a particular task. Such a modular architecture also helps you keep unrelated classes decoupled and provides a natural structure for assigning ownership within your development team."
   ]
  },
  {
   "cell_type": "markdown",
   "metadata": {},
   "source": [
    "### Configure Your Test Environment\n",
    "\n",
    "A typical project in Android Studio contains two directories in which you place tests. Organize your tests as follows.\n",
    "\n",
    "* The `androidTest` directory should contain the tests that run on real or virtual devices. Such tests include integration tests, end to end tests, and other tests where JVM alone cannot validate your functionality\n",
    "* The `test` directory should contains the test that runs on your local machine such as unit tests."
   ]
  },
  {
   "cell_type": "markdown",
   "metadata": {},
   "source": [
    "### Consider Whether To Test Doubles\n",
    "\n",
    "* When creating tests, we have the option of creating real object or test doubles, such as fake objects or mock objects. Generally, using real object in your tests is better than using doubles, especially when object under test satisfies one of the following conditions.\n",
    "\n",
    "    - The object is data object\n",
    "    - The object cannot function unless it communicates with the real object version of the dependency. A good example is an event callback handler\n",
    "    - It's hard to replicate the object's communication with a dependency. A good example is a sql database handler.\n",
    "    \n",
    "    "
   ]
  },
  {
   "cell_type": "markdown",
   "metadata": {},
   "source": [
    "## Write Your Test\n",
    "\n",
    "### Levels of the Testing Pyramids \n",
    "\n",
    "<img src=\"https://developer.android.com/images/training/testing/pyramid_2x.png\" align=\"left\" height=\"400\" width=\"400\"/>\n",
    "\n",
    "\n",
    "The testing pyramid illustrate how the app should include 3 categories of test.\n",
    "* Small Test - They are unit test that validate app's behaviour one class at the time.\n",
    "* Medium Test - They validate Interaction between modules or level of stacks within a module\n",
    "\n",
    "* Large Test - They are end to end test they validate user journey spanning multiple modules of the app."
   ]
  },
  {
   "cell_type": "markdown",
   "metadata": {},
   "source": [
    "### Write Small Tests\n",
    "\n",
    "The small tests that your write should be highly focused unit tests that exhaustively validate the functionality and contracts of each class within your app.\n",
    "\n",
    "As you add and change method within a particular class, create and run unit tests against them. If these tests depends on the Android Framework, use a unified, device-agnostic API. such as the androidx.test API's. This consistency "
   ]
  },
  {
   "cell_type": "markdown",
   "metadata": {},
   "source": [
    "### Write Medium Tests\n",
    "\n"
   ]
  }
 ],
 "metadata": {
  "kernelspec": {
   "display_name": "Kotlin",
   "language": "kotlin",
   "name": "kotlin"
  },
  "language_info": {
   "codemirror_mode": "text/x-kotlin",
   "file_extension": "kt",
   "name": "kotlin"
  }
 },
 "nbformat": 4,
 "nbformat_minor": 4
}
