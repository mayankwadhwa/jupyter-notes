{
 "cells": [
  {
   "cell_type": "markdown",
   "metadata": {},
   "source": [
    "# Common Legacy App Problems"
   ]
  },
  {
   "cell_type": "markdown",
   "metadata": {},
   "source": [
    "## Components that are highly coupled\n",
    "\n",
    "Lets say we have method to search different types of animal in the database.\n",
    "``` kotlin\n",
    "class Cat(\n",
    "  val queenName: String, \n",
    "  val felineFood: String, \n",
    "  val scratchesFurniture: Boolean, \n",
    "  val isLitterTrained: Boolean)\n",
    "\n",
    "class Dog(\n",
    "  val bestFriendName: String, \n",
    "  val food: String, \n",
    "  val isHouseTrained: Boolean, \n",
    "  val barks: Boolean)\n",
    "\n",
    "fun findPetsWithSameName(petToFind: Any): List<Any> {\n",
    "  lateinit var petName: String  \n",
    "  if (petToFind is Cat){\n",
    "    petName = petToFind.queenName\n",
    "  } else if (petToFind is Dog) {\n",
    "    petName = petToFind.food  \n",
    "  }\n",
    "  return yourDatabaseOrWebservice.findByName(petName)  \n",
    "}\n",
    "```"
   ]
  },
  {
   "cell_type": "markdown",
   "metadata": {},
   "source": [
    "Now to test this code we have to write three method.\n",
    "* Test that only creates an instance of a cat\n",
    "* Test that creates the instance of a dog\n",
    "* Test that check for some other animal\n",
    "\n",
    "``` kotlin\n",
    "@Test\n",
    "fun `find pets by cats name`() {\n",
    "  val catNamedGarfield = Cat(\"Garfield\", \"Lasagne\", false, false)  \n",
    "  assertEquals(2, findPetsWithSameName(catNamedGarfield).size)    \n",
    "}\n",
    "\n",
    "@Test\n",
    "fun `find pets by dogs name`() {\n",
    "  val dogNamedStay = Dog(\"Stay\", \"Blue Buffalo\", false, false)  \n",
    "  assertEquals(5, findPetsWithSameName(dogNamedStay).size)    \n",
    "}\n",
    "\n",
    "@Test\n",
    "fun `find pets by lions name`() {\n",
    "  val lionNamedButterCup = Lion(\"Buttercup\", \"Steak\", false, false)  \n",
    "  assertEquals(2, findPetsWithSameName(lionNamedButterCup).size)    \n",
    "}\n",
    "\n",
    "```\n",
    "\n",
    "Now we have to write 3 test in total for such a simple function implementation"
   ]
  },
  {
   "cell_type": "markdown",
   "metadata": {},
   "source": [
    "We could the above implementation like this.\n",
    "\n",
    "``` kotlin\n",
    "open class Pet(var name: String, var food: String)\n",
    "\n",
    "class Cat(\n",
    "  name: String, \n",
    "  food: String, \n",
    "  var scratchesFurniture: Boolean, \n",
    "  var isLitterTrained: Boolean): Pet(name, food)\n",
    "\n",
    "class Dog(\n",
    "  name: String, \n",
    "  food: String, \n",
    "  var isHouseTrained: Boolean, \n",
    "  var barks: Boolean): Pet(name, food)\n",
    "\n",
    "fun findPetsWithSameName(petToFind: Pet): List<Pet> {\n",
    "  return yourDatabaseOrWebservice.findByName(petToFind.name)  \n",
    "}\n",
    "\n",
    "\n",
    "@Test\n",
    "fun `find pets by cats name`() {\n",
    "  val catNamedGarfield = Cat(\"Garfield\", \"Lazagne\", false, false)  \n",
    "  assertEquals(2, findPetsWithSameName(catNamedGarfield).size)    \n",
    "}\n",
    "\n",
    "```\n",
    "\n",
    "Now we have to write only "
   ]
  },
  {
   "cell_type": "code",
   "execution_count": null,
   "metadata": {},
   "outputs": [],
   "source": []
  }
 ],
 "metadata": {
  "kernelspec": {
   "display_name": "Kotlin",
   "language": "kotlin",
   "name": "kotlin"
  },
  "language_info": {
   "codemirror_mode": "text/x-kotlin",
   "file_extension": "kt",
   "name": "kotlin"
  }
 },
 "nbformat": 4,
 "nbformat_minor": 4
}
