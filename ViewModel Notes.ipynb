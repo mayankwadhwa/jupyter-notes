{
 "cells": [
  {
   "cell_type": "markdown",
   "metadata": {},
   "source": [
    "## Viewmodel Overview\n",
    "\n",
    "The **ViewModel** class is designed to store and manage UI-related data in a lifecycle conscious way. The ViewModel class allows data to survive configuration changes such as screen-rotation.\n",
    "\n",
    "If the system destroys or re-creates a UI controller, any transient UI-related data you store in them is lost. For example, your app may include a list of users in one of its activities. When the activity is re-created for a configuration change, the new activity has to re-fetch the list of users. For simple data, the activity can use the onSaveInstanceState() method and restore its data from the bundle in onCreate(), but this approach is only suitable for small amounts of data that can be serialized then deserialized, not for potentially large amounts of data like a list of users or bitmaps.\n",
    "\n",
    "UI controllers such as activities and fragments are primarily intended to display UI data, react to user actions, or handle operating system communication, such as permission requests. Requiring UI controllers to also be responsible for loading data from a database or network adds bloat to the class. Assigning excessive responsibility to UI controllers can result in a single class that tries to handle all of an app's work by itself, instead of delegating work to other classes. Assigning excessive responsibility to the UI controllers in this way also makes testing a lot harder.\n",
    "\n",
    "\n",
    "## Implement a ViewModel\n",
    "\n",
    "``` kotlin\n",
    "class MyViewModel : ViewModel() {\n",
    "    private val users: MutableLiveData<List<User>> by lazy {\n",
    "        MutableLiveData().also {\n",
    "            loadUsers()\n",
    "        }\n",
    "    }\n",
    "\n",
    "    fun getUsers(): LiveData<List<User>> {\n",
    "        return users\n",
    "    }\n",
    "\n",
    "    private fun loadUsers() {\n",
    "        // Do an asynchronous operation to fetch users.\n",
    "    }\n",
    "}\n",
    "\n",
    "class MyActivity : AppCompatActivity() {\n",
    "\n",
    "    override fun onCreate(savedInstanceState: Bundle?) {\n",
    "        // Create a ViewModel the first time the system calls an activity's onCreate() method.\n",
    "        // Re-created activities receive the same MyViewModel instance created by the first activity.\n",
    "\n",
    "        // Use the 'by viewModels()' Kotlin property delegate\n",
    "        // from the activity-ktx artifact\n",
    "        val model: MyViewModel by viewModels()\n",
    "        model.getUsers().observe(this, Observer<List<User>>{ users ->\n",
    "            // update UI\n",
    "        })\n",
    "    }\n",
    "}\n",
    "\n",
    "```\n",
    "\n",
    "ViewModel objects are designed to outlive specific instantiations of views or LifecycleOwners. This design also means you can write tests to cover a ViewModel more easily as it doesn't know about view and Lifecycle objects. ViewModel objects can contain LifecycleObservers, such as LiveData objects. However ViewModel objects must never observe changes to lifecycle-aware observables, such as LiveData objects. If the ViewModel needs the Application context, for example to find a system service, it can extend the AndroidViewModel class and have a constructor that receives the Application in the constructor, since Application class extends Context.\n"
   ]
  },
  {
   "cell_type": "markdown",
   "metadata": {},
   "source": [
    "## Lifecycle of a ViewModel\n",
    "\n",
    "ViewModel objects are scoped to the Lifecycle passed to the ViewModelProvider when getting the ViewModel. The ViewModel remains in memory until the Lifecycle it's scoped to goes away permanently: in the case of an activity, when it finishes, while in the case of a fragment, when it's detached.\n",
    "\n",
    "<img src=\"https://developer.android.com/images/topic/libraries/architecture/viewmodel-lifecycle.png\"/>\n",
    "\n",
    "\n"
   ]
  },
  {
   "cell_type": "code",
   "execution_count": null,
   "metadata": {},
   "outputs": [],
   "source": []
  }
 ],
 "metadata": {
  "kernelspec": {
   "display_name": "Kotlin",
   "language": "kotlin",
   "name": "kotlin"
  },
  "language_info": {
   "codemirror_mode": "text/x-kotlin",
   "file_extension": "kt",
   "name": "kotlin"
  }
 },
 "nbformat": 4,
 "nbformat_minor": 4
}
