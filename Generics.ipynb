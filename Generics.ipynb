{
 "cells": [
  {
   "cell_type": "markdown",
   "metadata": {},
   "source": [
    "# Generics"
   ]
  },
  {
   "cell_type": "markdown",
   "metadata": {},
   "source": [
    "As in java, classes in Kotlin may have type parameters"
   ]
  },
  {
   "cell_type": "code",
   "execution_count": 8,
   "metadata": {},
   "outputs": [],
   "source": [
    "class Box<T>(t: T){\n",
    "    var value = t\n",
    "}"
   ]
  },
  {
   "cell_type": "markdown",
   "metadata": {},
   "source": [
    "In general, to create an instance of such a class, we need to provide the type arguements"
   ]
  },
  {
   "cell_type": "code",
   "execution_count": 10,
   "metadata": {},
   "outputs": [],
   "source": [
    "val box: Box<Int> = Box<Int>(1)"
   ]
  },
  {
   "cell_type": "markdown",
   "metadata": {},
   "source": [
    "But if the parameters may be inferred, for example from the constructor arguements or by some other means, one is allowed to omit the type arguements:"
   ]
  },
  {
   "cell_type": "code",
   "execution_count": 11,
   "metadata": {},
   "outputs": [],
   "source": [
    "val box = Box(1)"
   ]
  },
  {
   "cell_type": "markdown",
   "metadata": {},
   "source": [
    "## Variance\n",
    "\n",
    "One of the most tricky parts of Java's type system is wildcard types And Kotlin doesn't have any. Instead. it has two other things: **declaration-site variance and type projections**.\n",
    "\n",
    "\n",
    "First, lets talk about why java need wildcards. First, generic types in java are **invariant**, meaning that `List<String>` is not subtype of `List<Object>`. Why so? If List was not **invariant**, it would have been no better than the java arrays, since the following code would have compiled amd caused an exception at runtime.\n",
    "\n",
    "``` java\n",
    "List<String> strs = new ArrayList<String>();\n",
    "List<Object> objs = strs; // !!! The cause of the upcoming problem sits here. Java prohibits this!\n",
    "objs.add(1); // Here we put an Integer into a list of Strings\n",
    "String s = strs.get(0); // !!! ClassCastException: Cannot cast Integer to String \n",
    "```\n",
    "\n",
    "So, Java prohibits such things in order to guarantee run-time safety. But this has some implications. For example, consider the `addAll()`method from Collection interface.What would be the intutive signature of the above method. It would something like this\n",
    "    \n",
    "``` java\n",
    "interface Collection<E> ... {\n",
    "  void addAll(Collection<E> items);\n",
    "}\n",
    "```\n",
    "\n",
    "But we try to do a simple thing like this it will fail to compile\n",
    "\n",
    "``` java\n",
    "void copyAll(Collection<Object> to, Collection<String> from) {\n",
    "  to.addAll(from);\n",
    "  // !!! Would not compile with the naive declaration of addAll:\n",
    "  // Collection<String> is not a subtype of Collection<Object>\n",
    "}\n",
    "```\n",
    "\n",
    "Thats why the actual signature of the `addAll()` is this\n",
    "``` java\n",
    "interface Collection<E> ... {\n",
    "  void addAll(Collection<? extends E> items);\n",
    "}\n",
    "```\n",
    "\n",
    "<p>The <strong>wildcard type argument</strong> <code>? extends E</code> indicates that this method accepts a collection of objects of <code>E</code> <em>or some subtype of</em> <code>E</code>, not just <code>E</code> itself. \n",
    "This means that we can safely <strong>read</strong> <code>E</code>'s from items (elements of this collection are instances of a subclass of E), but <strong>cannot write</strong> to \n",
    "it since we do not know what objects comply to that unknown subtype of <code>E</code>. \n",
    "In return for this limitation, we have the desired behaviour: <code>Collection&lt;String&gt;</code> <em>is</em> a subtype of <code>Collection&lt;? extends Object&gt;</code>. \n",
    "In \"clever words\", the wildcard with an <strong>extends</strong>-bound (<strong>upper</strong> bound) makes the type <strong>covariant</strong>.</p>\n",
    "\n",
    "\n",
    "<p>The key to understanding why this trick works is rather simple: if you can only <strong>take</strong> items from a collection, then using a collection of <code>String</code>s\n",
    "and reading <code>Object</code>s from it is fine. Conversely, if you can only <em>put</em> items into the collection, it's OK to take a collection of\n",
    "<code>Object</code>s and put <code>String</code>s into it: in Java we have <code>List&lt;? super String&gt;</code> a <strong>supertype</strong> of <code>List&lt;Object&gt;</code>.</p>\n",
    "\n",
    "\n",
    "<p>The latter is called <strong>contravariance</strong>, and you can only call methods that take String as an argument on <code>List&lt;? super String&gt;</code> \n",
    "(e.g., you can call <code>add(String)</code> or <code>set(int, String)</code>), while \n",
    "if you call something that returns <code>T</code> in <code>List&lt;T&gt;</code>, you don't get a <code>String</code>, but an <code>Object</code>.</p>\n",
    "\n"
   ]
  },
  {
   "cell_type": "code",
   "execution_count": null,
   "metadata": {},
   "outputs": [],
   "source": []
  }
 ],
 "metadata": {
  "kernelspec": {
   "display_name": "Kotlin",
   "language": "kotlin",
   "name": "kotlin"
  },
  "language_info": {
   "codemirror_mode": "text/x-kotlin",
   "file_extension": "kt",
   "name": "kotlin"
  }
 },
 "nbformat": 4,
 "nbformat_minor": 4
}
