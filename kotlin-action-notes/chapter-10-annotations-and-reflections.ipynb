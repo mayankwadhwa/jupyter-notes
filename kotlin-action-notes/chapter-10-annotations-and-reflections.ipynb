{
 "cells": [
  {
   "cell_type": "markdown",
   "metadata": {},
   "source": [
    "## Annotation\n",
    "\n",
    "An **annotation** allows us to associate additional metadata with a declaration. The metadata can then be accessed by tools which works with source code, compiled class files, or at runtime. depending on how the annotation is configured.\n",
    "\n",
    "### Applying Annotation\n",
    "\n",
    "To apply an annotation, you put its name, prefixed with the @ character, in the beginning of the declaration you’re annotating. You can annotate different code elements, such as methods or classes.\n",
    "\n"
   ]
  },
  {
   "cell_type": "code",
   "execution_count": null,
   "metadata": {},
   "outputs": [],
   "source": []
  }
 ],
 "metadata": {
  "kernelspec": {
   "display_name": "Kotlin",
   "language": "kotlin",
   "name": "kotlin"
  },
  "language_info": {
   "codemirror_mode": "text/x-kotlin",
   "file_extension": "kt",
   "name": "kotlin"
  }
 },
 "nbformat": 4,
 "nbformat_minor": 4
}
