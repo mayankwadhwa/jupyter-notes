{
 "cells": [
  {
   "cell_type": "markdown",
   "metadata": {},
   "source": [
    "# Higher Order Functions: Lambdas ad Parameter and Return Values"
   ]
  },
  {
   "cell_type": "markdown",
   "metadata": {},
   "source": [
    "## Declaring Higher-Order Functions\n",
    "\n",
    "**A higher-order function is a function thatt takes another function as an arguement or returns one**\n",
    "\n",
    "For example the `filter` standard-library function takes a predicate function as a parameter and is therefore a higher-order function\n",
    "\n",
    "```\n",
    "list.filter{ x > 0 }\n",
    "```\n",
    "\n",
    "\n",
    "### Function Types\n",
    "\n",
    "Lets declare some function variable first\n",
    "\n",
    "``` kotlin\n",
    "val sum = { x:Int, y: Int -> x + y }\n",
    "val action = { println(42) }\n",
    "```\n",
    "\n",
    "In this case, this compiler infers that both the sum and action variables have function types but if were to declare there respective types explicity it would look like this.\n",
    "\n",
    "``` kotlin\n",
    "val sum = (Int, Int) -> Int = { x,y -> x + y }\n",
    "val action: () -> Unit = { println(42) }\n",
    "```\n",
    "\n",
    "### Parameters names of function types\n",
    "\n",
    "``` kotlin\n",
    "fun performRequest(\n",
    "    url: String,\n",
    "    callback: (code: Int, content: String) -> Unit\n",
    "){\n",
    "    \n",
    "}\n",
    "\n",
    "performRequest(\"\"){ code, content -> /**/ }\n",
    "```\n",
    "\n",
    "\n",
    "Parameter names don't affect type matching. When we declare a lambda, we don't have to use the same parameter names as the ones used in the function type declaration. But the names improves readability of the code and can be used in the IDE for completion.\n",
    "\n",
    "### Calling function passed as arguments"
   ]
  },
  {
   "cell_type": "code",
   "execution_count": 1,
   "metadata": {},
   "outputs": [
    {
     "name": "stdout",
     "output_type": "stream",
     "text": [
      "The result is 6\r\n"
     ]
    }
   ],
   "source": [
    "fun twoAndThree(operation: (Int, Int) -> Int ){\n",
    "    val result = operation(2,3)\n",
    "    println(\"The result is $result\")\n",
    "}\n",
    "\n",
    "twoAndThree{ a,b -> a * b }"
   ]
  },
  {
   "cell_type": "markdown",
   "metadata": {},
   "source": [
    "### Default and Null Values For Parameter with function types\n",
    "\n",
    "When we declare a parameter of a function type, we can also specify its default value.\n",
    "\n",
    "``` kotlin\n",
    "fun <T> Collection<T>.joinToString( \n",
    "    separator: String = \", \",         \n",
    "    prefix: String = \"\",         \n",
    "    postfix: String = \"\",\n",
    "    transform: (T) -> String = { it.toString() } ): String \n",
    "```\n",
    "\n",
    "Another approach is declaring a function as nullable \n",
    "\n",
    "``` kotlin\n",
    "fun <T> Collection<T>.joinToString(\n",
    "    seperator: String = \",\"\n",
    "    prefix: String = \"\",\n",
    "    postfix: String = \"\",\n",
    "    transform: ((T) -> String)? = null): String\n",
    "```\n",
    "\n",
    "### Returning function from function\n",
    "\n",
    "The requirement to return a function from another function doesn't come up as often as passing a function to another function, but it's still useful. For example calculating the cost of shipping depending on the selected shipping method. We can define a function that chooses the appropriate login variant and returns it as another function. "
   ]
  },
  {
   "cell_type": "code",
   "execution_count": 3,
   "metadata": {},
   "outputs": [
    {
     "name": "stdout",
     "output_type": "stream",
     "text": [
      "Shipping costs 12.3\r\n"
     ]
    }
   ],
   "source": [
    "enum class Delivery { STANDARD, EXPEDITED }\n",
    "\n",
    "class Order(val itemCount: Int)\n",
    "\n",
    "fun getShippingCostCalculator(delivery: Delivery): (Order) -> Double {\n",
    "    if (delivery == Delivery.EXPEDITED){\n",
    "        return { order -> 6 + 2.1 * order.itemCount }\n",
    "    }\n",
    "    \n",
    "    return { order -> 1.2 * order.itemCount }\n",
    "}\n",
    "\n",
    "val calculator = getShippingCostCalculator(Delivery.EXPEDITED)\n",
    "println(\"Shipping costs ${calculator(Order(3))}\")"
   ]
  },
  {
   "cell_type": "code",
   "execution_count": 9,
   "metadata": {},
   "outputs": [
    {
     "name": "stdout",
     "output_type": "stream",
     "text": [
      "[Person(firstName=Dmitry, lastName=Jemerov, phoneNumber=123-4567)]\r\n"
     ]
    }
   ],
   "source": [
    "// Another Example\n",
    "\n",
    "data class Person(\n",
    "    val firstName: String,\n",
    "    val lastName: String,\n",
    "    val phoneNumber: String?\n",
    ")\n",
    "\n",
    "class ContactListFilters {\n",
    "    var prefix: String = \"\"\n",
    "    var onlyWithPhoneNumber: Boolean = false\n",
    "\n",
    "    fun getPredicate(): (Person) -> Boolean {\n",
    "        val startsWithPrefix = { p: Person ->\n",
    "            p.firstName.startsWith(prefix) || p.lastName.startsWith(prefix)\n",
    "        }\n",
    "        if (!onlyWithPhoneNumber) {\n",
    "            return startsWithPrefix\n",
    "        }\n",
    "\n",
    "        return { startsWithPrefix(it) && it.phoneNumber != null }\n",
    "    }\n",
    "}\n",
    "\n",
    "val contacts = listOf(Person(\"Dmitry\", \"Jemerov\", \"123-4567\"),\n",
    "Person(\"Svetlana\", \"Isakova\", null))\n",
    "\n",
    "val contactListFilters = ContactListFilters()\n",
    "\n",
    " with(contactListFilters) {\n",
    " prefix = \"Dm\"\n",
    " onlyWithPhoneNumber = true\n",
    "}\n",
    "\n",
    "println(contacts.filter(contactListFilters.getPredicate()))"
   ]
  },
  {
   "cell_type": "markdown",
   "metadata": {},
   "source": [
    "### Removing duplication through lambdas"
   ]
  },
  {
   "cell_type": "code",
   "execution_count": 8,
   "metadata": {},
   "outputs": [
    {
     "name": "stdout",
     "output_type": "stream",
     "text": [
      "23.0\r\n",
      "23.0\r\n",
      "22.0\r\n",
      "12.15\r\n"
     ]
    }
   ],
   "source": [
    "data class SiteVisit(\n",
    "    val path: String,\n",
    "    val duration: Double,\n",
    "    val os: OS\n",
    ")\n",
    "\n",
    "enum class OS { WINDOWS, LINUX, MAC, IOS, ANDROID }\n",
    "\n",
    "val log = listOf(\n",
    "    SiteVisit(\"/\", 34.0, OS.WINDOWS),\n",
    "    SiteVisit(\"/\", 22.0, OS.MAC),\n",
    "    SiteVisit(\"/login\", 12.0, OS.WINDOWS),\n",
    "    SiteVisit(\"/signup\", 8.0, OS.IOS),\n",
    "    SiteVisit(\"/\", 16.3, OS.ANDROID)\n",
    ")\n",
    "\n",
    "// Lets say i want to find the average duration from windows machine\n",
    "    \n",
    "val averageWindowsDuration = log\n",
    "    .filter{ it.os == OS.WINDOWS }\n",
    "    .map(SiteVisit::duration)\n",
    "    .average()\n",
    "\n",
    "println(averageWindowsDuration)\n",
    "\n",
    "// Now suppose we want to calculate same for the mac users. rather than duplicating\n",
    "// the same code we extract the platform as the parameter.\n",
    "\n",
    "fun List<SiteVisit>.averageDurationFor(os: OS) = \n",
    "    filter { it.os == os }.map(SiteVisit::duration).average()\n",
    "\n",
    "println(log.averageDurationFor(OS.WINDOWS))\n",
    "println(log.averageDurationFor(OS.MAC))\n",
    "\n",
    "// Now suppose we want to find the average duration for the visit of Mobile Platform\n",
    "// We could do something like\n",
    "\n",
    "val averageMobileDuration = log\n",
    "        .filter { it.os in setOf(OS.IOS, OS.ANDROID) }\n",
    "        .map(SiteVisit::duration)\n",
    "        .average()\n",
    "\n",
    "println(averageMobileDuration)"
   ]
  },
  {
   "cell_type": "markdown",
   "metadata": {},
   "source": [
    "## INLINE FUNCTION: REMOVING THE OVERHEAD OF LAMBDAS"
   ]
  },
  {
   "cell_type": "markdown",
   "metadata": {},
   "source": [
    "Whenever we use a lambda expresion, an extra class is created; and if the lambda captures some variables, then a new object is created on every invocation. This introduces runtime overhead, causing an implementation that uses a lambda to be less efficient than a function that executes the same code directly\n",
    "\n",
    "The solution to remedy this overhead is `inline` keyword,When we `inline` keyword the compiler won't generate a function call when the function is used and instead will replace every call to the function with the actual code implementing the function.\n",
    "\n",
    "\n",
    "### How Inlining works\n",
    "\n",
    "When we declare a function as `inline`, its body is inlined in other words, its substituted directly instead of the function invocation. Let's look at an example to understand the resulting code."
   ]
  },
  {
   "cell_type": "code",
   "execution_count": null,
   "metadata": {},
   "outputs": [],
   "source": [
    "inline fun <T> synchronized(lock: Lock, action: () -> T): T {\n",
    "    lock.lock()\n",
    "    try{\n",
    "        return action()\n",
    "    }\n",
    "    finally {\n",
    "        lock.unlock()\n",
    "    }\n",
    "}\n",
    "\n",
    "val l = Lock()\n",
    "synchronized(l){\n",
    "    \n",
    "}"
   ]
  },
  {
   "cell_type": "markdown",
   "metadata": {},
   "source": [
    "The above function ensures that a shared resource isn't accessed concurrently by multiple threads. The function locks a Lock object, executes the given block of code, and then releases the lock.\n",
    "\n",
    "Because we have declared the `synchronized` function as `inline`, the code generated for every call to it is the same as for `synchrnoized` statement in Java. \n",
    "\n",
    "``` kotlin\n",
    "fun foo(l: Lock){\n",
    "    println(\"Before sync\")\n",
    "    synchronized(l) {\n",
    "        println(\"Action\")\n",
    "    }\n",
    "    println(\"After sync\")\n",
    "}\n",
    "```\n",
    "Above code will compiled to\n",
    "\n",
    "<img src=\"../resources/inline-example-1.png\"/>\n",
    "\n",
    "Note that the inlining is applied to the lambda expression as well as the implementation of the `synchronized` function. The bytecode generated from the lambda becomes the part of the definition of the calling function and isn't wrapped in an anonymous class implementing a function interface"
   ]
  },
  {
   "cell_type": "markdown",
   "metadata": {},
   "source": [
    "### Restriction on inline function\n",
    "\n",
    "Due to the way inlining is performed, not every function that uses lambdas can be inlined. When the function is inlined, the body of the lambda expression that's passed as an argument is substituted directly into the resulting code.\n",
    "That restricts the possible uses of the corresponding parameter in the function body. If theis parameter is called, such code can be easily inlined. But if the parameter is stored somewhere for further use, the code of the lambda expression can't be inlined, because there must be an object that contains this code.\n",
    "\n",
    "Generally, the parameter can be inlined if, its called directly or passed as an arguement to another `inline` function. Otherwise, the compiler will prohibit the inlining of the parameter with an error message that says \"Illegal usage of inline-parameter\"\n",
    "\n",
    "``` kotlin \n",
    "fun <T, R> Sequence<T>.map(transform: (T) -> R): Sequence<R> {\n",
    "    return TransformingSequence(this, transform)\n",
    "}\n",
    "```\n",
    "\n",
    "the map function doesn't call the function passed as the `transform` parameter directly. Instead, it passes this function to the constructor of a class that stores it in a property. To support that, the lambda passed as the `transform` arguement needs to be compiled into the standard non-inline representation, as an anonymous class implementing a function interface.\n",
    "\n"
   ]
  },
  {
   "cell_type": "markdown",
   "metadata": {},
   "source": [
    "### Deciding when to declare function as inline\n",
    "\n",
    "Using the `inline` keyword can imporve performance only with functions that take lambdas as parameters\n",
    "\n",
    "For regular function calls, the Java virtual machine already provides powerful inlining support. It analyzes the execution of your code and inlines calls whenever doing so provides the most benefit. This happens automatically and at the machine-code level. In bytecode, the implementation of each function is repeated only once and doesn’t need to be copied every place where the function is called, as with Kotlin’s inline functions. What’s more, the stacktrace is clearer if the function is called directly.\n",
    "\n",
    "\n",
    "On the other hand, inlining functions with lambda parameters is beneficial. First, the overhead you avoid through inlining is more significant. You save not only on the call, but also on the creation of the extra class for each lambda and an object for the lambda instance. Second, the JVM currently isn’t smart enough to always perform inlining through the call and lambda. Finally inlining lets you use feature that are impossible to make work with regular lambdas, such as non-local returns\n",
    "\n",
    "\n",
    "\n"
   ]
  },
  {
   "cell_type": "markdown",
   "metadata": {},
   "source": []
  },
  {
   "cell_type": "code",
   "execution_count": null,
   "metadata": {},
   "outputs": [],
   "source": []
  }
 ],
 "metadata": {
  "kernelspec": {
   "display_name": "Kotlin",
   "language": "kotlin",
   "name": "kotlin"
  },
  "language_info": {
   "codemirror_mode": "text/x-kotlin",
   "file_extension": "kt",
   "name": "kotlin"
  }
 },
 "nbformat": 4,
 "nbformat_minor": 4
}
