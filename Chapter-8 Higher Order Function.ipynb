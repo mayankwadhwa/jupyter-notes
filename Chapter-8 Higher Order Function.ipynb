{
 "cells": [
  {
   "cell_type": "markdown",
   "metadata": {},
   "source": [
    "# Higher Order Functions: Lambdas ad Parameter and Return Values"
   ]
  },
  {
   "cell_type": "markdown",
   "metadata": {},
   "source": [
    "## Declaring Higher-Order Functions\n",
    "\n",
    "**A higher-order function is a function thatt takes another function as an arguement or returns one**\n",
    "\n",
    "For example the `filter` standard-library function takes a predicate function as a parameter and is therefore a higher-order function\n",
    "\n",
    "```\n",
    "list.filter{ x > 0 }\n",
    "```\n",
    "\n",
    "\n",
    "### Function Types\n",
    "\n",
    "Lets declare some function variable first\n",
    "\n",
    "``` kotlin\n",
    "val sum = { x:Int, y: Int -> x + y }\n",
    "val action = { println(42) }\n",
    "```\n",
    "\n",
    "In this case, this compiler infers that both the sum and action variables have function types but if were to declare there respective types explicity it would look like this.\n",
    "\n",
    "``` kotlin\n",
    "val sum = (Int, Int) -> Int = { x,y -> x + y }\n",
    "val action: () -> Unit = { println(42) }\n",
    "```\n",
    "\n",
    "### Parameters names of function types\n",
    "\n",
    "``` kotlin\n",
    "fun performRequest(\n",
    "    url: String,\n",
    "    callback: (code: Int, content: String) -> Unit\n",
    "){\n",
    "    \n",
    "}\n",
    "\n",
    "performRequest(\"\"){ code, content -> /**/ }\n",
    "```\n",
    "\n",
    "\n",
    "Parameter names don't affect type matching. When we declare a lambda, we don't have to use the same parameter names as the ones used in the function type declaration. But the names improves readability of the code and can be used in the IDE for completion.\n",
    "\n",
    "### Calling function passed as arguments"
   ]
  },
  {
   "cell_type": "code",
   "execution_count": 3,
   "metadata": {},
   "outputs": [
    {
     "name": "stdout",
     "output_type": "stream",
     "text": [
      "The result is 6\r\n"
     ]
    }
   ],
   "source": [
    "fun twoAndThree(operation: (Int, Int) -> Int ){\n",
    "    val result = operation(2,3)\n",
    "    println(\"The result is $result\")\n",
    "}\n",
    "\n",
    "twoAndThree{ a,b -> a * b }"
   ]
  },
  {
   "cell_type": "markdown",
   "metadata": {},
   "source": [
    "### Default and Null Values For Parameter with function types\n",
    "\n",
    "When we declare a parameter of a function type, we can also specify its default value.\n",
    "\n",
    "``` kotlin\n",
    "fun <T> Collection<T>.joinToString( \n",
    "    separator: String = \", \",         \n",
    "    prefix: String = \"\",         \n",
    "    postfix: String = \"\",\n",
    "    transform: (T) -> String = { it.toString() } ): String \n",
    "```\n",
    "\n",
    "Another approach is declaring a function as nullable \n",
    "\n",
    "``` kotlin\n",
    "fun <T> Collection<T>.joinToString(\n",
    "    seperator: String = \",\"\n",
    "    prefix: String = \"\",\n",
    "    postfix: String = \"\",\n",
    "    transform: ((T) -> String)? = null): String\n",
    "```\n",
    "\n",
    "### Returning function from function\n",
    "\n",
    "The requirement to return a function from another function doesn't come up as often as passing a function to another function, but it's still useful. For example calculating the cost of shipping depending on the selected shipping method. We can define a function that chooses the appropriate login variant and returns it as another function. "
   ]
  },
  {
   "cell_type": "code",
   "execution_count": 3,
   "metadata": {},
   "outputs": [
    {
     "name": "stdout",
     "output_type": "stream",
     "text": [
      "Shipping costs 12.3\r\n"
     ]
    }
   ],
   "source": [
    "enum class Delivery { STANDARD, EXPEDITED }\n",
    "\n",
    "class Order(val itemCount: Int)\n",
    "\n",
    "fun getShippingCostCalculator(delivery: Delivery): (Order) -> Double {\n",
    "    if (delivery == Delivery.EXPEDITED){\n",
    "        return { order -> 6 + 2.1 * order.itemCount }\n",
    "    }\n",
    "    \n",
    "    return { order -> 1.2 * order.itemCount }\n",
    "}\n",
    "\n",
    "val calculator = getShippingCostCalculator(Delivery.EXPEDITED)\n",
    "println(\"Shipping costs ${calculator(Order(3))}\")"
   ]
  },
  {
   "cell_type": "code",
   "execution_count": null,
   "metadata": {},
   "outputs": [],
   "source": []
  }
 ],
 "metadata": {
  "kernelspec": {
   "display_name": "Kotlin",
   "language": "kotlin",
   "name": "kotlin"
  },
  "language_info": {
   "codemirror_mode": "text/x-kotlin",
   "file_extension": "kt",
   "name": "kotlin"
  }
 },
 "nbformat": 4,
 "nbformat_minor": 4
}
