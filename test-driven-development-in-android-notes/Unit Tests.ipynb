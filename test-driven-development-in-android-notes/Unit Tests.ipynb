{
 "cells": [
  {
   "cell_type": "markdown",
   "metadata": {},
   "source": [
    "# Unit Test\n",
    "\n",
    "Unit test verify how isolated parts of your application work. Before checking how things work together, we need to make sure the units of our application behave as expected.\n",
    "\n",
    "Before writing any feature code, we should first write a unit test for one of the classes that will compose our feature. Afterwards, we write the class that will pass the test. After repeating this procedure we will have a complete, testable feature."
   ]
  },
  {
   "cell_type": "markdown",
   "metadata": {},
   "source": [
    "## JUnit Annotation\n",
    "\n",
    "### @Before\n",
    "This method will be executed before each test and it's a good place to set up objects.\n",
    "\n",
    "### @After\n",
    "@After: The method will be executed after each test. You can use it to tear down anything that you set up in @Before.\n",
    "\n",
    "### @BeforeClass\n",
    "@BeforeClass: If you annotate a method with this, it'll be executed only once before all the tests are executed. For example, opening a file, a connection or a database that is shared in all the tests.\n",
    "\n",
    "### @AfterClass\n",
    "@AfterClass: To execute a method only once after all the tests are executed, use this one. For example, closing a file, a connection or a database that is shared in all the tests.\n",
    "\n",
    "\n"
   ]
  },
  {
   "cell_type": "code",
   "execution_count": null,
   "metadata": {},
   "outputs": [],
   "source": []
  }
 ],
 "metadata": {
  "kernelspec": {
   "display_name": "Kotlin",
   "language": "kotlin",
   "name": "kotlin"
  },
  "language_info": {
   "codemirror_mode": "text/x-kotlin",
   "file_extension": "kt",
   "name": "kotlin"
  }
 },
 "nbformat": 4,
 "nbformat_minor": 4
}
