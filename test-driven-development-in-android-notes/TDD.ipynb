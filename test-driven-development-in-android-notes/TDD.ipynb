{
 "cells": [
  {
   "cell_type": "markdown",
   "metadata": {},
   "source": [
    "## What is TDD?\n",
    "\n",
    "TDD is a process in which you write the tests for the code you are going to add or modify before you write the actual code. Because it's a process and not a library, you can apply it to any project, be it Android, iOS, web or anything else.\n",
    "\n",
    "### Why is TDD Important?\n",
    "\n",
    "There are plenty of reasons for using TDD as your testing strategy, building upon the benefits of having tests in general:\n",
    "\n",
    "* **Write intentionally**: Well-written tests provide a description of what your code should do. From the start, you will focus on the end result. Writing these specifications as tests can keep the result from deviating from the initial idea.\n",
    "\n",
    "* **Automatically document**: When coming to a piece of code, you can look at the tests to help you understand what the code does. Because these are tests — and, again, a process — rather than a static document, you can be sure that this form of documentation is likely up-to-date.\n",
    "\n",
    "* **Keep maintainable code**: When practicing TDD, it encourages you to pay attention to the structure of your code. You will want to architect your app in a testable way, which is generally cleaner and easier to maintain and read. For example, decoupled classes are easier to set up test classes for, encouraging you to structure your classes this way. Refactoring is also built into this development process. By having this refactoring step built in, your code can stay squeaky clean!\n",
    "\n",
    "* **Have confidence in your code**: Tests help you to ensure that your code works the way it should. Because of this, you can have greater confidence that what you wrote is “complete.” In addition, with any changes that you make in the future, you can know that you didn’t break that functionality as long as the tests you wrote with the code pass.\n",
    "\n",
    "* **Develop faster**: Using a process that promotes more readable and maintainable code and that acts as self documentation means you can spend less time trying to understand what the code does when revisiting it, and use that time for solving your problem instead. Also, the code you write using the TDD process is less error-prone from the start, so you will need to spend less time on fixing them down the road.\n",
    "\n",
    "* **Higher test coverage**: If you’re writing tests alongside with your code, you’re going to have more test coverage over the code. This is important to many organizations and developers.\n"
   ]
  },
  {
   "cell_type": "markdown",
   "metadata": {},
   "source": [
    "### Unit Test\n",
    "\n",
    "Unit test are quickest, easiest to write and cheapest to run. They generally test one outcome of one method at a time. They are independent of the Android Framework.\n",
    "\n",
    "The **System Under Test** is one class and you focus only on it. They are also called small test.\n",
    "\n",
    "\n",
    "Consider a Game class"
   ]
  },
  {
   "cell_type": "code",
   "execution_count": 7,
   "metadata": {},
   "outputs": [],
   "source": [
    "class Game(){\n",
    "    var score = 0\n",
    "        private set\n",
    "    \n",
    "    var highScore = 0\n",
    "        private set\n",
    "    \n",
    "    fun incrementScore(){\n",
    "        // Increment score and highscore when needed.\n",
    "        score++\n",
    "        if( score > highScore ){\n",
    "            highScore++\n",
    "        }\n",
    "    }\n",
    "}"
   ]
  },
  {
   "cell_type": "code",
   "execution_count": 8,
   "metadata": {},
   "outputs": [
    {
     "name": "stdout",
     "output_type": "stream",
     "text": [
      "Success\n"
     ]
    }
   ],
   "source": [
    "fun shouldIncrementHighScore_whenIncrementingScore(){\n",
    "    val game = Game()\n",
    "    \n",
    "    game.incrementScore()\n",
    "    \n",
    "    if(game.highScore == 1){\n",
    "        println(\"Success\")\n",
    "    }else{\n",
    "        throw AssertionError(\"Score and Highscore don't match\")\n",
    "    }\n",
    "}\n",
    "\n",
    "// If we run this it fails now we have to make it work by adding the increment score method\n",
    "shouldIncrementHighScore_whenIncrementingScore()"
   ]
  },
  {
   "cell_type": "markdown",
   "metadata": {},
   "source": [
    "### Integration Test\n",
    "\n",
    "Integration test move pass isolated elements and begin testing how things work together. We write these tests when we need to check how our code interact with the other parts of android framework or external libraries.\n",
    "\n",
    "For simple example of a integration test consider the example of a repository class that depends on a JSON parser class that reads from a file. The repository ask the parser to retrieve the data and then the parser transform the data into domain model. We can create a test that means given a JSON file verifies that the repository correctly returns the domain data.\n",
    "\n",
    "Another example could be of a retail app which ensures whenever user add an item as favourite and if that user is not logged in. "
   ]
  },
  {
   "cell_type": "code",
   "execution_count": null,
   "metadata": {},
   "outputs": [],
   "source": [
    "fun shouldLaunchLogin_whenAddingFavorite() {\n",
    "  // 1\n",
    "  val user: User = null\n",
    "  val detailActivity = createProductDetailActivity(user)\n",
    "  detailActivity.findViewById(R.id.addFavorite).performClick()\n",
    "\n",
    "  // 2\n",
    "  val expectedIntent = Intent(detailActivity,\n",
    "    LoginActivity::class.java);\n",
    "\n",
    "  // 3\n",
    "  val actualIntent = getNextStartedActivity()\n",
    "  if (expectedIntent == actualIntent) {\n",
    "    print(\"Success\")\n",
    "  } else {\n",
    "    throw AssertionError(\"LoginActivity wasn't launched\")\n",
    "  }\n",
    "}"
   ]
  },
  {
   "cell_type": "markdown",
   "metadata": {},
   "source": [
    "## UI Test\n",
    "\n",
    "The test on this layer check that the UI works correctly. This is the most expensive and slowest test to perform and they are also called **Large Test**. \n",
    "\n",
    "We should limit our UI test and rely more on unit and integration tests."
   ]
  },
  {
   "cell_type": "code",
   "execution_count": null,
   "metadata": {},
   "outputs": [],
   "source": [
    "fun shouldWelcomeUser_whenLogin() {\n",
    "  onView(withId(R.id.username)).perform(typeText(\"Fernando\"))\n",
    "  onView(withId(R.id.password)).perform(typeText(\"password\"))\n",
    "  onView(withId(R.id.login_button)).perform(click())\n",
    "  onView(withText(\"Hello Fernando!\"))\n",
    "    .check(matches(isDisplayed()))\n",
    "}"
   ]
  },
  {
   "cell_type": "markdown",
   "metadata": {},
   "source": []
  }
 ],
 "metadata": {
  "kernelspec": {
   "display_name": "Kotlin",
   "language": "kotlin",
   "name": "kotlin"
  },
  "language_info": {
   "codemirror_mode": "text/x-kotlin",
   "file_extension": "kt",
   "name": "kotlin"
  }
 },
 "nbformat": 4,
 "nbformat_minor": 4
}
